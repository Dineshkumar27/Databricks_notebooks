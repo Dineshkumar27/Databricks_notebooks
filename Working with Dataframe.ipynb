{
 "cells": [
  {
   "cell_type": "code",
   "execution_count": 0,
   "metadata": {
    "application/vnd.databricks.v1+cell": {
     "cellMetadata": {
      "byteLimit": 2048000,
      "implicitDf": true,
      "rowLimit": 10000
     },
     "inputWidgets": {},
     "nuid": "328e92b1-738b-4152-ac29-609e12b8a2ef",
     "showTitle": false,
     "tableResultSettingsMap": {},
     "title": ""
    }
   },
   "outputs": [
    {
     "output_type": "display_data",
     "data": {
      "text/html": [
       "<style scoped>\n",
       "  .table-result-container {\n",
       "    max-height: 300px;\n",
       "    overflow: auto;\n",
       "  }\n",
       "  table, th, td {\n",
       "    border: 1px solid black;\n",
       "    border-collapse: collapse;\n",
       "  }\n",
       "  th, td {\n",
       "    padding: 5px;\n",
       "  }\n",
       "  th {\n",
       "    text-align: left;\n",
       "  }\n",
       "</style><div class='table-result-container'><table class='table-result'><thead style='background-color: white'><tr><th>current_catalog()</th><th>current_schema()</th></tr></thead><tbody><tr><td>workspace</td><td>default</td></tr></tbody></table></div>"
      ]
     },
     "metadata": {
      "application/vnd.databricks.v1+output": {
       "addedWidgets": {},
       "aggData": [],
       "aggError": "",
       "aggOverflow": false,
       "aggSchema": [],
       "aggSeriesLimitReached": false,
       "aggType": "",
       "arguments": {},
       "columnCustomDisplayInfos": {},
       "data": [
        [
         "workspace",
         "default"
        ]
       ],
       "datasetInfos": [
        {
         "name": "_sqldf",
         "schema": {
          "fields": [
           {
            "metadata": {},
            "name": "current_catalog()",
            "nullable": false,
            "type": "string"
           },
           {
            "metadata": {},
            "name": "current_schema()",
            "nullable": false,
            "type": "string"
           }
          ],
          "type": "struct"
         },
         "tableIdentifier": null,
         "typeStr": "pyspark.sql.connect.dataframe.DataFrame"
        }
       ],
       "dbfsResultPath": null,
       "isJsonSchema": true,
       "metadata": {
        "createTempViewForImplicitDf": true,
        "dataframeName": "_sqldf",
        "executionCount": 2
       },
       "overflow": false,
       "plotOptions": {
        "customPlotOptions": {},
        "displayType": "table",
        "pivotAggregation": null,
        "pivotColumns": null,
        "xColumns": null,
        "yColumns": null
       },
       "removedWidgets": [],
       "schema": [
        {
         "metadata": "{}",
         "name": "current_catalog()",
         "type": "\"string\""
        },
        {
         "metadata": "{}",
         "name": "current_schema()",
         "type": "\"string\""
        }
       ],
       "type": "table"
      }
     },
     "output_type": "display_data"
    }
   ],
   "source": [
    "%sql\n",
    "select current_catalog(),current_schema()"
   ]
  },
  {
   "cell_type": "code",
   "execution_count": 0,
   "metadata": {
    "application/vnd.databricks.v1+cell": {
     "cellMetadata": {
      "byteLimit": 2048000,
      "rowLimit": 10000
     },
     "inputWidgets": {},
     "nuid": "629ef4a7-856a-490c-88b1-17eb5661cc0b",
     "showTitle": false,
     "tableResultSettingsMap": {},
     "title": ""
    }
   },
   "outputs": [
    {
     "output_type": "display_data",
     "data": {
      "text/html": [
       "<style scoped>\n",
       "  .table-result-container {\n",
       "    max-height: 300px;\n",
       "    overflow: auto;\n",
       "  }\n",
       "  table, th, td {\n",
       "    border: 1px solid black;\n",
       "    border-collapse: collapse;\n",
       "  }\n",
       "  th, td {\n",
       "    padding: 5px;\n",
       "  }\n",
       "  th {\n",
       "    text-align: left;\n",
       "  }\n",
       "</style><div class='table-result-container'><table class='table-result'><thead style='background-color: white'><tr><th>id</th><th>name</th><th>department</th><th>age</th><th>email</th></tr></thead><tbody><tr><td>1</td><td>John Doe</td><td>Engineering</td><td>28</td><td>john.doe@example.com</td></tr><tr><td>2</td><td>Jane Smith</td><td>Marketing</td><td>32</td><td>jane.smith@example.com</td></tr><tr><td>3</td><td>Robert Brown</td><td>Sales</td><td>45</td><td>robert.brown@example.com</td></tr><tr><td>4</td><td>Lisa White</td><td>HR</td><td>29</td><td>lisa.white@example.com</td></tr><tr><td>5</td><td>Tom Wilson</td><td>Finance</td><td>39</td><td>tom.wilson@example.com</td></tr><tr><td>6</td><td>Nina Davis</td><td>Engineering</td><td>26</td><td>nina.davis@example.com</td></tr><tr><td>7</td><td>David Lee</td><td>Product</td><td>34</td><td>david.lee@example.com</td></tr><tr><td>8</td><td>Susan Clark</td><td>Support</td><td>41</td><td>susan.clark@example.com</td></tr><tr><td>9</td><td>Kevin Hall</td><td>Engineering</td><td>30</td><td>kevin.hall@example.com</td></tr><tr><td>10</td><td>Emily Scott</td><td>Marketing</td><td>27</td><td>emily.scott@example.com</td></tr></tbody></table></div>"
      ]
     },
     "metadata": {
      "application/vnd.databricks.v1+output": {
       "addedWidgets": {},
       "aggData": [],
       "aggError": "",
       "aggOverflow": false,
       "aggSchema": [],
       "aggSeriesLimitReached": false,
       "aggType": "",
       "arguments": {},
       "columnCustomDisplayInfos": {},
       "data": [
        [
         1,
         "John Doe",
         "Engineering",
         28,
         "john.doe@example.com"
        ],
        [
         2,
         "Jane Smith",
         "Marketing",
         32,
         "jane.smith@example.com"
        ],
        [
         3,
         "Robert Brown",
         "Sales",
         45,
         "robert.brown@example.com"
        ],
        [
         4,
         "Lisa White",
         "HR",
         29,
         "lisa.white@example.com"
        ],
        [
         5,
         "Tom Wilson",
         "Finance",
         39,
         "tom.wilson@example.com"
        ],
        [
         6,
         "Nina Davis",
         "Engineering",
         26,
         "nina.davis@example.com"
        ],
        [
         7,
         "David Lee",
         "Product",
         34,
         "david.lee@example.com"
        ],
        [
         8,
         "Susan Clark",
         "Support",
         41,
         "susan.clark@example.com"
        ],
        [
         9,
         "Kevin Hall",
         "Engineering",
         30,
         "kevin.hall@example.com"
        ],
        [
         10,
         "Emily Scott",
         "Marketing",
         27,
         "emily.scott@example.com"
        ]
       ],
       "datasetInfos": [],
       "dbfsResultPath": null,
       "isJsonSchema": true,
       "metadata": {},
       "overflow": false,
       "plotOptions": {
        "customPlotOptions": {},
        "displayType": "table",
        "pivotAggregation": null,
        "pivotColumns": null,
        "xColumns": null,
        "yColumns": null
       },
       "removedWidgets": [],
       "schema": [
        {
         "metadata": "{}",
         "name": "id",
         "type": "\"integer\""
        },
        {
         "metadata": "{}",
         "name": "name",
         "type": "\"string\""
        },
        {
         "metadata": "{}",
         "name": "department",
         "type": "\"string\""
        },
        {
         "metadata": "{}",
         "name": "age",
         "type": "\"integer\""
        },
        {
         "metadata": "{}",
         "name": "email",
         "type": "\"string\""
        }
       ],
       "type": "table"
      }
     },
     "output_type": "display_data"
    }
   ],
   "source": [
    "from pyspark.sql.types import *\n",
    "\n",
    "myschema = StructType([\n",
    "\n",
    "    StructField(\"id\", IntegerType(), nullable=False),\n",
    "\n",
    "    StructField(\"name\", StringType(), nullable=True),\n",
    "\n",
    "    StructField(\"department\", StringType(), nullable=True),\n",
    "\n",
    "    StructField(\"age\", IntegerType(), nullable=True),\n",
    "\n",
    "    StructField(\"email\", StringType(), nullable=True),\n",
    "\n",
    "])\n",
    "\n",
    "# df=spark.read.csv(\"/Volumes/workspace/default/myvol/empwithheader.csv\",header=True)\n",
    " \n",
    "\n",
    "\n",
    "myschema = StructType([\n",
    "\n",
    "    StructField(\"id\", IntegerType(), nullable=False),\n",
    "\n",
    "    StructField(\"name\", StringType(), nullable=True),\n",
    "\n",
    "    StructField(\"department\", StringType(), nullable=True),\n",
    "\n",
    "    StructField(\"age\", IntegerType(), nullable=True),\n",
    "\n",
    "    StructField(\"email\", StringType(), nullable=True),\n",
    "\n",
    "])\n",
    "\n",
    "df=spark.read.csv(\"/Volumes/workspace/default/myvol/empwoheader.csv\",schema=myschema)\n",
    "\n",
    "display(df)\n",
    " "
   ]
  },
  {
   "cell_type": "markdown",
   "metadata": {
    "application/vnd.databricks.v1+cell": {
     "cellMetadata": {},
     "inputWidgets": {},
     "nuid": "be0ad95f-b7a6-4cec-8dc1-5afe6a39e49c",
     "showTitle": false,
     "tableResultSettingsMap": {},
     "title": ""
    }
   },
   "source": [
    "#### Working with Dataframe API"
   ]
  },
  {
   "cell_type": "code",
   "execution_count": 0,
   "metadata": {
    "application/vnd.databricks.v1+cell": {
     "cellMetadata": {
      "byteLimit": 2048000,
      "rowLimit": 10000
     },
     "inputWidgets": {},
     "nuid": "01569943-193a-4a4e-9f25-72f7941837d9",
     "showTitle": false,
     "tableResultSettingsMap": {},
     "title": ""
    }
   },
   "outputs": [
    {
     "output_type": "stream",
     "name": "stdout",
     "output_type": "stream",
     "text": [
      "+---+------------+\n| id|        name|\n+---+------------+\n|  1|    John Doe|\n|  2|  Jane Smith|\n|  3|Robert Brown|\n|  4|  Lisa White|\n|  5|  Tom Wilson|\n|  6|  Nina Davis|\n|  7|   David Lee|\n|  8| Susan Clark|\n|  9|  Kevin Hall|\n| 10| Emily Scott|\n+---+------------+\n\n"
     ]
    }
   ],
   "source": [
    "# print only id and name of employee\n",
    "\n",
    "df.select(\"id\",\"name\").show()"
   ]
  },
  {
   "cell_type": "code",
   "execution_count": 0,
   "metadata": {
    "application/vnd.databricks.v1+cell": {
     "cellMetadata": {
      "byteLimit": 2048000,
      "rowLimit": 10000
     },
     "inputWidgets": {},
     "nuid": "1141f5e2-54b8-4c7d-a7ac-201f6792cafc",
     "showTitle": false,
     "tableResultSettingsMap": {},
     "title": ""
    }
   },
   "outputs": [
    {
     "output_type": "stream",
     "name": "stdout",
     "output_type": "stream",
     "text": [
      "+---+------------+-----------+---+------------------------+\n|id |name        |department |age|email                   |\n+---+------------+-----------+---+------------------------+\n|1  |John Doe    |Engineering|28 |john.doe@example.com    |\n|2  |Jane Smith  |Marketing  |32 |jane.smith@example.com  |\n|3  |Robert Brown|Sales      |45 |robert.brown@example.com|\n|4  |Lisa White  |HR         |29 |lisa.white@example.com  |\n|5  |Tom Wilson  |Finance    |39 |tom.wilson@example.com  |\n|6  |Nina Davis  |Engineering|26 |nina.davis@example.com  |\n|7  |David Lee   |Product    |34 |david.lee@example.com   |\n|8  |Susan Clark |Support    |41 |susan.clark@example.com |\n|9  |Kevin Hall  |Engineering|30 |kevin.hall@example.com  |\n|10 |Emily Scott |Marketing  |27 |emily.scott@example.com |\n+---+------------+-----------+---+------------------------+\n\n"
     ]
    }
   ],
   "source": [
    "df.select(\"*\").show(truncate=False)"
   ]
  },
  {
   "cell_type": "code",
   "execution_count": 0,
   "metadata": {
    "application/vnd.databricks.v1+cell": {
     "cellMetadata": {
      "byteLimit": 2048000,
      "implicitDf": true,
      "rowLimit": 10000
     },
     "inputWidgets": {},
     "nuid": "3ec3d26b-f664-43bd-bb79-139a8651d22d",
     "showTitle": false,
     "tableResultSettingsMap": {},
     "title": ""
    }
   },
   "outputs": [],
   "source": [
    "%sql\n",
    "create volume default.myvol2"
   ]
  }
 ],
 "metadata": {
  "application/vnd.databricks.v1+notebook": {
   "computePreferences": null,
   "dashboards": [],
   "environmentMetadata": {
    "base_environment": "",
    "environment_version": "2"
   },
   "inputWidgetPreferences": null,
   "language": "python",
   "notebookMetadata": {
    "mostRecentlyExecutedCommandWithImplicitDF": {
     "commandId": 8017388729832920,
     "dataframes": [
      "_sqldf"
     ]
    },
    "pythonIndentUnit": 4
   },
   "notebookName": "Working with Dataframe",
   "widgets": {}
  },
  "language_info": {
   "name": "python"
  }
 },
 "nbformat": 4,
 "nbformat_minor": 0
}